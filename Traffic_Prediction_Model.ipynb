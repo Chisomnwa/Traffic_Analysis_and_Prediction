{
 "cells": [
  {
   "cell_type": "markdown",
   "id": "3c59c5a5",
   "metadata": {},
   "source": [
    "# Importing Libraries"
   ]
  },
  {
   "cell_type": "code",
   "execution_count": 1,
   "id": "458b292c",
   "metadata": {
    "execution": {
     "iopub.execute_input": "2022-10-13T18:41:33.235682Z",
     "iopub.status.busy": "2022-10-13T18:41:33.235267Z",
     "iopub.status.idle": "2022-10-13T18:41:35.343789Z",
     "shell.execute_reply": "2022-10-13T18:41:35.342743Z",
     "shell.execute_reply.started": "2022-10-13T18:41:33.235648Z"
    }
   },
   "outputs": [
    {
     "data": {
      "text/html": [
       "<style type='text/css'>\n",
       ".datatable table.frame { margin-bottom: 0; }\n",
       ".datatable table.frame thead { border-bottom: none; }\n",
       ".datatable table.frame tr.coltypes td {  color: #FFFFFF;  line-height: 6px;  padding: 0 0.5em;}\n",
       ".datatable .bool    { background: #DDDD99; }\n",
       ".datatable .object  { background: #565656; }\n",
       ".datatable .int     { background: #5D9E5D; }\n",
       ".datatable .float   { background: #4040CC; }\n",
       ".datatable .str     { background: #CC4040; }\n",
       ".datatable .time    { background: #40CC40; }\n",
       ".datatable .row_index {  background: var(--jp-border-color3);  border-right: 1px solid var(--jp-border-color0);  color: var(--jp-ui-font-color3);  font-size: 9px;}\n",
       ".datatable .frame tbody td { text-align: left; }\n",
       ".datatable .frame tr.coltypes .row_index {  background: var(--jp-border-color0);}\n",
       ".datatable th:nth-child(2) { padding-left: 12px; }\n",
       ".datatable .hellipsis {  color: var(--jp-cell-editor-border-color);}\n",
       ".datatable .vellipsis {  background: var(--jp-layout-color0);  color: var(--jp-cell-editor-border-color);}\n",
       ".datatable .na {  color: var(--jp-cell-editor-border-color);  font-size: 80%;}\n",
       ".datatable .sp {  opacity: 0.25;}\n",
       ".datatable .footer { font-size: 9px; }\n",
       ".datatable .frame_dimensions {  background: var(--jp-border-color3);  border-top: 1px solid var(--jp-border-color0);  color: var(--jp-ui-font-color3);  display: inline-block;  opacity: 0.6;  padding: 1px 10px 1px 5px;}\n",
       "</style>\n"
      ],
      "text/plain": [
       "<IPython.core.display.HTML object>"
      ]
     },
     "metadata": {},
     "output_type": "display_data"
    }
   ],
   "source": [
    "import pandas as pd\n",
    "import numpy as np\n",
    "import seaborn as sns\n",
    "import matplotlib.pyplot as plt\n",
    "%matplotlib inline\n",
    "import datetime as dt\n",
    "from tqdm import tqdm\n",
    "import gc\n",
    "from sklearn.linear_model import LinearRegression, Ridge, Lasso\n",
    "\n",
    "from sklearn.model_selection import StratifiedKFold,cross_val_score, GridSearchCV,RandomizedSearchCV, train_test_split, RepeatedStratifiedKFold#For splitting\n",
    "from sklearn.preprocessing import StandardScaler, MinMaxScaler\n",
    "\n",
    "from sklearn.metrics import fbeta_score, make_scorer\n",
    "\n",
    "from sklearn.metrics import accuracy_score, mean_absolute_percentage_error, f1_score, roc_auc_score, plot_roc_curve, plot_confusion_matrix, r2_score, mean_absolute_error,mean_squared_error, recall_score, precision_score\n",
    "from sklearn.preprocessing import OneHotEncoder, LabelEncoder, OrdinalEncoder\n",
    "from sklearn.metrics import fbeta_score, make_scorer\n",
    "from sklearn.svm import SVR, LinearSVR\n",
    "from sklearn.neighbors import KNeighborsRegressor\n",
    "from sklearn.tree import DecisionTreeRegressor\n",
    "from lightgbm import LGBMRegressor\n",
    "from sklearn.ensemble import GradientBoostingRegressor\n",
    "from catboost import CatBoostRegressor, Pool \n",
    "from sklearn.ensemble import RandomForestRegressor\n",
    "from xgboost import XGBRegressor, DMatrix\n",
    "from sklearn.ensemble import AdaBoostRegressor\n",
    "\n",
    "from sklearn.metrics import confusion_matrix, classification_report, ConfusionMatrixDisplay\n",
    "\n",
    "\n",
    "import warnings\n",
    "warnings.filterwarnings(\"ignore\")\n",
    "pd.set_option('display.max_rows',None)\n",
    "#from datetime import datetime\n",
    "import warnings\n",
    "warnings.filterwarnings(\"ignore\")\n"
   ]
  },
  {
   "cell_type": "markdown",
   "id": "70df4791",
   "metadata": {},
   "source": [
    "# Reading Dataset"
   ]
  },
  {
   "cell_type": "code",
   "execution_count": 2,
   "id": "70968f34",
   "metadata": {
    "execution": {
     "iopub.execute_input": "2022-10-13T19:39:34.816894Z",
     "iopub.status.busy": "2022-10-13T19:39:34.816486Z",
     "iopub.status.idle": "2022-10-13T19:39:34.862583Z",
     "shell.execute_reply": "2022-10-13T19:39:34.861476Z",
     "shell.execute_reply.started": "2022-10-13T19:39:34.816859Z"
    },
    "scrolled": true
   },
   "outputs": [
    {
     "data": {
      "text/html": [
       "<div>\n",
       "<style scoped>\n",
       "    .dataframe tbody tr th:only-of-type {\n",
       "        vertical-align: middle;\n",
       "    }\n",
       "\n",
       "    .dataframe tbody tr th {\n",
       "        vertical-align: top;\n",
       "    }\n",
       "\n",
       "    .dataframe thead th {\n",
       "        text-align: right;\n",
       "    }\n",
       "</style>\n",
       "<table border=\"1\" class=\"dataframe\">\n",
       "  <thead>\n",
       "    <tr style=\"text-align: right;\">\n",
       "      <th></th>\n",
       "      <th>DateTime</th>\n",
       "      <th>Junction</th>\n",
       "      <th>Vehicles</th>\n",
       "      <th>ID</th>\n",
       "    </tr>\n",
       "  </thead>\n",
       "  <tbody>\n",
       "    <tr>\n",
       "      <th>0</th>\n",
       "      <td>11/1/2015 0:00</td>\n",
       "      <td>1</td>\n",
       "      <td>15</td>\n",
       "      <td>20151101001</td>\n",
       "    </tr>\n",
       "    <tr>\n",
       "      <th>1</th>\n",
       "      <td>11/1/2015 1:00</td>\n",
       "      <td>1</td>\n",
       "      <td>13</td>\n",
       "      <td>20151101011</td>\n",
       "    </tr>\n",
       "    <tr>\n",
       "      <th>2</th>\n",
       "      <td>11/1/2015 2:00</td>\n",
       "      <td>1</td>\n",
       "      <td>10</td>\n",
       "      <td>20151101021</td>\n",
       "    </tr>\n",
       "    <tr>\n",
       "      <th>3</th>\n",
       "      <td>11/1/2015 3:00</td>\n",
       "      <td>1</td>\n",
       "      <td>7</td>\n",
       "      <td>20151101031</td>\n",
       "    </tr>\n",
       "    <tr>\n",
       "      <th>4</th>\n",
       "      <td>11/1/2015 4:00</td>\n",
       "      <td>1</td>\n",
       "      <td>9</td>\n",
       "      <td>20151101041</td>\n",
       "    </tr>\n",
       "  </tbody>\n",
       "</table>\n",
       "</div>"
      ],
      "text/plain": [
       "         DateTime  Junction  Vehicles           ID\n",
       "0  11/1/2015 0:00         1        15  20151101001\n",
       "1  11/1/2015 1:00         1        13  20151101011\n",
       "2  11/1/2015 2:00         1        10  20151101021\n",
       "3  11/1/2015 3:00         1         7  20151101031\n",
       "4  11/1/2015 4:00         1         9  20151101041"
      ]
     },
     "execution_count": 2,
     "metadata": {},
     "output_type": "execute_result"
    }
   ],
   "source": [
    "df = pd.read_csv('traffic.csv')\n",
    "df.head()"
   ]
  },
  {
   "cell_type": "markdown",
   "id": "d4284e04",
   "metadata": {},
   "source": [
    "# Feature Engineering"
   ]
  },
  {
   "cell_type": "code",
   "execution_count": 3,
   "id": "0f5842c7",
   "metadata": {
    "execution": {
     "iopub.execute_input": "2022-10-13T19:39:43.096780Z",
     "iopub.status.busy": "2022-10-13T19:39:43.096400Z",
     "iopub.status.idle": "2022-10-13T19:39:43.444362Z",
     "shell.execute_reply": "2022-10-13T19:39:43.443514Z",
     "shell.execute_reply.started": "2022-10-13T19:39:43.096748Z"
    }
   },
   "outputs": [],
   "source": [
    "#Extracting new features for the DateTime Column\n",
    "df[\"DateTime\"] = pd.to_datetime(df['DateTime'])\n",
    "\n",
    "\n",
    "df['Year'] = df['DateTime'].dt.year\n",
    "df['Month'] = df['DateTime'].dt.month\n",
    "df['day_of_month'] = df['DateTime'].dt.day\n",
    "#df['Hour'] = df['DateTime'].dt.hour\n",
    "df['day_of_week'] = df['DateTime'].dt.dayofweek\n",
    "df['Date']= df['DateTime'].dt.date\n",
    "df['Time']= df['DateTime'].dt.hour\n",
    "\n",
    "df['day_of_year']=  df['DateTime'].dt.dayofyear\n",
    "df['Seconds'] = pd.to_timedelta(df['DateTime'].dt.strftime('%H:%M:%S')).dt.total_seconds().astype(int)\n"
   ]
  },
  {
   "cell_type": "code",
   "execution_count": 4,
   "id": "f618eee8",
   "metadata": {
    "execution": {
     "iopub.execute_input": "2022-10-13T19:39:46.491738Z",
     "iopub.status.busy": "2022-10-13T19:39:46.491325Z",
     "iopub.status.idle": "2022-10-13T19:39:46.507765Z",
     "shell.execute_reply": "2022-10-13T19:39:46.506276Z",
     "shell.execute_reply.started": "2022-10-13T19:39:46.491702Z"
    }
   },
   "outputs": [
    {
     "data": {
      "text/html": [
       "<div>\n",
       "<style scoped>\n",
       "    .dataframe tbody tr th:only-of-type {\n",
       "        vertical-align: middle;\n",
       "    }\n",
       "\n",
       "    .dataframe tbody tr th {\n",
       "        vertical-align: top;\n",
       "    }\n",
       "\n",
       "    .dataframe thead th {\n",
       "        text-align: right;\n",
       "    }\n",
       "</style>\n",
       "<table border=\"1\" class=\"dataframe\">\n",
       "  <thead>\n",
       "    <tr style=\"text-align: right;\">\n",
       "      <th></th>\n",
       "      <th>DateTime</th>\n",
       "      <th>Junction</th>\n",
       "      <th>Vehicles</th>\n",
       "      <th>ID</th>\n",
       "      <th>Year</th>\n",
       "      <th>Month</th>\n",
       "      <th>day_of_month</th>\n",
       "      <th>day_of_week</th>\n",
       "      <th>Date</th>\n",
       "      <th>Time</th>\n",
       "      <th>day_of_year</th>\n",
       "      <th>Seconds</th>\n",
       "    </tr>\n",
       "  </thead>\n",
       "  <tbody>\n",
       "    <tr>\n",
       "      <th>0</th>\n",
       "      <td>2015-11-01 00:00:00</td>\n",
       "      <td>1</td>\n",
       "      <td>15</td>\n",
       "      <td>20151101001</td>\n",
       "      <td>2015</td>\n",
       "      <td>11</td>\n",
       "      <td>1</td>\n",
       "      <td>6</td>\n",
       "      <td>2015-11-01</td>\n",
       "      <td>0</td>\n",
       "      <td>305</td>\n",
       "      <td>0</td>\n",
       "    </tr>\n",
       "    <tr>\n",
       "      <th>1</th>\n",
       "      <td>2015-11-01 01:00:00</td>\n",
       "      <td>1</td>\n",
       "      <td>13</td>\n",
       "      <td>20151101011</td>\n",
       "      <td>2015</td>\n",
       "      <td>11</td>\n",
       "      <td>1</td>\n",
       "      <td>6</td>\n",
       "      <td>2015-11-01</td>\n",
       "      <td>1</td>\n",
       "      <td>305</td>\n",
       "      <td>3600</td>\n",
       "    </tr>\n",
       "    <tr>\n",
       "      <th>2</th>\n",
       "      <td>2015-11-01 02:00:00</td>\n",
       "      <td>1</td>\n",
       "      <td>10</td>\n",
       "      <td>20151101021</td>\n",
       "      <td>2015</td>\n",
       "      <td>11</td>\n",
       "      <td>1</td>\n",
       "      <td>6</td>\n",
       "      <td>2015-11-01</td>\n",
       "      <td>2</td>\n",
       "      <td>305</td>\n",
       "      <td>7200</td>\n",
       "    </tr>\n",
       "    <tr>\n",
       "      <th>3</th>\n",
       "      <td>2015-11-01 03:00:00</td>\n",
       "      <td>1</td>\n",
       "      <td>7</td>\n",
       "      <td>20151101031</td>\n",
       "      <td>2015</td>\n",
       "      <td>11</td>\n",
       "      <td>1</td>\n",
       "      <td>6</td>\n",
       "      <td>2015-11-01</td>\n",
       "      <td>3</td>\n",
       "      <td>305</td>\n",
       "      <td>10800</td>\n",
       "    </tr>\n",
       "    <tr>\n",
       "      <th>4</th>\n",
       "      <td>2015-11-01 04:00:00</td>\n",
       "      <td>1</td>\n",
       "      <td>9</td>\n",
       "      <td>20151101041</td>\n",
       "      <td>2015</td>\n",
       "      <td>11</td>\n",
       "      <td>1</td>\n",
       "      <td>6</td>\n",
       "      <td>2015-11-01</td>\n",
       "      <td>4</td>\n",
       "      <td>305</td>\n",
       "      <td>14400</td>\n",
       "    </tr>\n",
       "  </tbody>\n",
       "</table>\n",
       "</div>"
      ],
      "text/plain": [
       "             DateTime  Junction  Vehicles           ID  Year  Month  \\\n",
       "0 2015-11-01 00:00:00         1        15  20151101001  2015     11   \n",
       "1 2015-11-01 01:00:00         1        13  20151101011  2015     11   \n",
       "2 2015-11-01 02:00:00         1        10  20151101021  2015     11   \n",
       "3 2015-11-01 03:00:00         1         7  20151101031  2015     11   \n",
       "4 2015-11-01 04:00:00         1         9  20151101041  2015     11   \n",
       "\n",
       "   day_of_month  day_of_week        Date  Time  day_of_year  Seconds  \n",
       "0             1            6  2015-11-01     0          305        0  \n",
       "1             1            6  2015-11-01     1          305     3600  \n",
       "2             1            6  2015-11-01     2          305     7200  \n",
       "3             1            6  2015-11-01     3          305    10800  \n",
       "4             1            6  2015-11-01     4          305    14400  "
      ]
     },
     "execution_count": 4,
     "metadata": {},
     "output_type": "execute_result"
    }
   ],
   "source": [
    "df.head()"
   ]
  },
  {
   "cell_type": "code",
   "execution_count": 5,
   "id": "e690ffd4",
   "metadata": {
    "execution": {
     "iopub.execute_input": "2022-10-13T19:39:53.645930Z",
     "iopub.status.busy": "2022-10-13T19:39:53.645534Z",
     "iopub.status.idle": "2022-10-13T19:39:53.663485Z",
     "shell.execute_reply": "2022-10-13T19:39:53.662633Z",
     "shell.execute_reply.started": "2022-10-13T19:39:53.645897Z"
    }
   },
   "outputs": [
    {
     "name": "stdout",
     "output_type": "stream",
     "text": [
      "<class 'pandas.core.frame.DataFrame'>\n",
      "RangeIndex: 48120 entries, 0 to 48119\n",
      "Data columns (total 12 columns):\n",
      " #   Column        Non-Null Count  Dtype         \n",
      "---  ------        --------------  -----         \n",
      " 0   DateTime      48120 non-null  datetime64[ns]\n",
      " 1   Junction      48120 non-null  int64         \n",
      " 2   Vehicles      48120 non-null  int64         \n",
      " 3   ID            48120 non-null  int64         \n",
      " 4   Year          48120 non-null  int64         \n",
      " 5   Month         48120 non-null  int64         \n",
      " 6   day_of_month  48120 non-null  int64         \n",
      " 7   day_of_week   48120 non-null  int64         \n",
      " 8   Date          48120 non-null  object        \n",
      " 9   Time          48120 non-null  int64         \n",
      " 10  day_of_year   48120 non-null  int64         \n",
      " 11  Seconds       48120 non-null  int32         \n",
      "dtypes: datetime64[ns](1), int32(1), int64(9), object(1)\n",
      "memory usage: 4.2+ MB\n"
     ]
    }
   ],
   "source": [
    "#Checking DataType of the columns\n",
    "df.info()"
   ]
  },
  {
   "cell_type": "code",
   "execution_count": 6,
   "id": "63154ccd",
   "metadata": {
    "execution": {
     "iopub.execute_input": "2022-10-13T19:49:42.926272Z",
     "iopub.status.busy": "2022-10-13T19:49:42.925880Z",
     "iopub.status.idle": "2022-10-13T19:49:42.933504Z",
     "shell.execute_reply": "2022-10-13T19:49:42.931893Z",
     "shell.execute_reply.started": "2022-10-13T19:49:42.926240Z"
    }
   },
   "outputs": [],
   "source": [
    "\n",
    "# Converting the DateTime Column into integer\n",
    "df['DateTime'] = df['DateTime'].values.astype(np.int64) / 10 ** 9\n"
   ]
  },
  {
   "cell_type": "code",
   "execution_count": 7,
   "id": "2e20aadb",
   "metadata": {
    "execution": {
     "iopub.execute_input": "2022-10-13T18:42:21.904953Z",
     "iopub.status.busy": "2022-10-13T18:42:21.904331Z",
     "iopub.status.idle": "2022-10-13T18:42:21.912452Z",
     "shell.execute_reply": "2022-10-13T18:42:21.911136Z",
     "shell.execute_reply.started": "2022-10-13T18:42:21.904912Z"
    }
   },
   "outputs": [
    {
     "data": {
      "text/plain": [
       "Index(['DateTime', 'Junction', 'Vehicles', 'ID', 'Year', 'Month',\n",
       "       'day_of_month', 'day_of_week', 'Date', 'Time', 'day_of_year',\n",
       "       'Seconds'],\n",
       "      dtype='object')"
      ]
     },
     "execution_count": 7,
     "metadata": {},
     "output_type": "execute_result"
    }
   ],
   "source": [
    "df.columns"
   ]
  },
  {
   "cell_type": "code",
   "execution_count": 8,
   "id": "34ebfa0a",
   "metadata": {
    "execution": {
     "iopub.execute_input": "2022-10-13T18:42:21.929380Z",
     "iopub.status.busy": "2022-10-13T18:42:21.928792Z",
     "iopub.status.idle": "2022-10-13T18:42:21.949665Z",
     "shell.execute_reply": "2022-10-13T18:42:21.948207Z",
     "shell.execute_reply.started": "2022-10-13T18:42:21.929331Z"
    }
   },
   "outputs": [
    {
     "data": {
      "text/html": [
       "<div>\n",
       "<style scoped>\n",
       "    .dataframe tbody tr th:only-of-type {\n",
       "        vertical-align: middle;\n",
       "    }\n",
       "\n",
       "    .dataframe tbody tr th {\n",
       "        vertical-align: top;\n",
       "    }\n",
       "\n",
       "    .dataframe thead th {\n",
       "        text-align: right;\n",
       "    }\n",
       "</style>\n",
       "<table border=\"1\" class=\"dataframe\">\n",
       "  <thead>\n",
       "    <tr style=\"text-align: right;\">\n",
       "      <th></th>\n",
       "      <th>DateTime</th>\n",
       "      <th>Junction</th>\n",
       "      <th>Vehicles</th>\n",
       "      <th>ID</th>\n",
       "      <th>Year</th>\n",
       "      <th>Month</th>\n",
       "      <th>day_of_month</th>\n",
       "      <th>day_of_week</th>\n",
       "      <th>Date</th>\n",
       "      <th>Time</th>\n",
       "      <th>day_of_year</th>\n",
       "      <th>Seconds</th>\n",
       "    </tr>\n",
       "  </thead>\n",
       "  <tbody>\n",
       "    <tr>\n",
       "      <th>0</th>\n",
       "      <td>1.446336e+09</td>\n",
       "      <td>1</td>\n",
       "      <td>15</td>\n",
       "      <td>20151101001</td>\n",
       "      <td>2015</td>\n",
       "      <td>11</td>\n",
       "      <td>1</td>\n",
       "      <td>6</td>\n",
       "      <td>2015-11-01</td>\n",
       "      <td>0</td>\n",
       "      <td>305</td>\n",
       "      <td>0</td>\n",
       "    </tr>\n",
       "    <tr>\n",
       "      <th>1</th>\n",
       "      <td>1.446340e+09</td>\n",
       "      <td>1</td>\n",
       "      <td>13</td>\n",
       "      <td>20151101011</td>\n",
       "      <td>2015</td>\n",
       "      <td>11</td>\n",
       "      <td>1</td>\n",
       "      <td>6</td>\n",
       "      <td>2015-11-01</td>\n",
       "      <td>1</td>\n",
       "      <td>305</td>\n",
       "      <td>3600</td>\n",
       "    </tr>\n",
       "    <tr>\n",
       "      <th>2</th>\n",
       "      <td>1.446343e+09</td>\n",
       "      <td>1</td>\n",
       "      <td>10</td>\n",
       "      <td>20151101021</td>\n",
       "      <td>2015</td>\n",
       "      <td>11</td>\n",
       "      <td>1</td>\n",
       "      <td>6</td>\n",
       "      <td>2015-11-01</td>\n",
       "      <td>2</td>\n",
       "      <td>305</td>\n",
       "      <td>7200</td>\n",
       "    </tr>\n",
       "    <tr>\n",
       "      <th>3</th>\n",
       "      <td>1.446347e+09</td>\n",
       "      <td>1</td>\n",
       "      <td>7</td>\n",
       "      <td>20151101031</td>\n",
       "      <td>2015</td>\n",
       "      <td>11</td>\n",
       "      <td>1</td>\n",
       "      <td>6</td>\n",
       "      <td>2015-11-01</td>\n",
       "      <td>3</td>\n",
       "      <td>305</td>\n",
       "      <td>10800</td>\n",
       "    </tr>\n",
       "    <tr>\n",
       "      <th>4</th>\n",
       "      <td>1.446350e+09</td>\n",
       "      <td>1</td>\n",
       "      <td>9</td>\n",
       "      <td>20151101041</td>\n",
       "      <td>2015</td>\n",
       "      <td>11</td>\n",
       "      <td>1</td>\n",
       "      <td>6</td>\n",
       "      <td>2015-11-01</td>\n",
       "      <td>4</td>\n",
       "      <td>305</td>\n",
       "      <td>14400</td>\n",
       "    </tr>\n",
       "  </tbody>\n",
       "</table>\n",
       "</div>"
      ],
      "text/plain": [
       "       DateTime  Junction  Vehicles           ID  Year  Month  day_of_month  \\\n",
       "0  1.446336e+09         1        15  20151101001  2015     11             1   \n",
       "1  1.446340e+09         1        13  20151101011  2015     11             1   \n",
       "2  1.446343e+09         1        10  20151101021  2015     11             1   \n",
       "3  1.446347e+09         1         7  20151101031  2015     11             1   \n",
       "4  1.446350e+09         1         9  20151101041  2015     11             1   \n",
       "\n",
       "   day_of_week        Date  Time  day_of_year  Seconds  \n",
       "0            6  2015-11-01     0          305        0  \n",
       "1            6  2015-11-01     1          305     3600  \n",
       "2            6  2015-11-01     2          305     7200  \n",
       "3            6  2015-11-01     3          305    10800  \n",
       "4            6  2015-11-01     4          305    14400  "
      ]
     },
     "execution_count": 8,
     "metadata": {},
     "output_type": "execute_result"
    }
   ],
   "source": [
    "df.head()"
   ]
  },
  {
   "cell_type": "code",
   "execution_count": 9,
   "id": "9596a619",
   "metadata": {
    "execution": {
     "iopub.execute_input": "2022-10-13T18:42:21.952401Z",
     "iopub.status.busy": "2022-10-13T18:42:21.951854Z",
     "iopub.status.idle": "2022-10-13T18:42:21.983105Z",
     "shell.execute_reply": "2022-10-13T18:42:21.981386Z",
     "shell.execute_reply.started": "2022-10-13T18:42:21.952360Z"
    }
   },
   "outputs": [],
   "source": [
    "#Encoding the Date Column\n",
    "L_encoder =LabelEncoder()\n",
    "df['Date'] = L_encoder.fit_transform(df['Date'])"
   ]
  },
  {
   "cell_type": "code",
   "execution_count": 10,
   "id": "b0186f16",
   "metadata": {
    "execution": {
     "iopub.execute_input": "2022-10-13T18:42:21.986047Z",
     "iopub.status.busy": "2022-10-13T18:42:21.984716Z",
     "iopub.status.idle": "2022-10-13T18:42:22.004395Z",
     "shell.execute_reply": "2022-10-13T18:42:22.002800Z",
     "shell.execute_reply.started": "2022-10-13T18:42:21.985999Z"
    }
   },
   "outputs": [
    {
     "name": "stdout",
     "output_type": "stream",
     "text": [
      "<class 'pandas.core.frame.DataFrame'>\n",
      "RangeIndex: 48120 entries, 0 to 48119\n",
      "Data columns (total 12 columns):\n",
      " #   Column        Non-Null Count  Dtype  \n",
      "---  ------        --------------  -----  \n",
      " 0   DateTime      48120 non-null  float64\n",
      " 1   Junction      48120 non-null  int64  \n",
      " 2   Vehicles      48120 non-null  int64  \n",
      " 3   ID            48120 non-null  int64  \n",
      " 4   Year          48120 non-null  int64  \n",
      " 5   Month         48120 non-null  int64  \n",
      " 6   day_of_month  48120 non-null  int64  \n",
      " 7   day_of_week   48120 non-null  int64  \n",
      " 8   Date          48120 non-null  int32  \n",
      " 9   Time          48120 non-null  int64  \n",
      " 10  day_of_year   48120 non-null  int64  \n",
      " 11  Seconds       48120 non-null  int32  \n",
      "dtypes: float64(1), int32(2), int64(9)\n",
      "memory usage: 4.0 MB\n"
     ]
    }
   ],
   "source": [
    "df.info()"
   ]
  },
  {
   "cell_type": "markdown",
   "id": "ddb3151a",
   "metadata": {},
   "source": [
    "# Creating New Features by Target Encoding Some Features"
   ]
  },
  {
   "cell_type": "code",
   "execution_count": 11,
   "id": "73da25e8",
   "metadata": {
    "execution": {
     "iopub.execute_input": "2022-10-13T18:42:22.006543Z",
     "iopub.status.busy": "2022-10-13T18:42:22.005515Z",
     "iopub.status.idle": "2022-10-13T18:42:23.432792Z",
     "shell.execute_reply": "2022-10-13T18:42:23.431529Z",
     "shell.execute_reply.started": "2022-10-13T18:42:22.006502Z"
    }
   },
   "outputs": [
    {
     "name": "stderr",
     "output_type": "stream",
     "text": [
      "100%|████████████████████████████████████████████████████████████████████████████████████| 9/9 [00:01<00:00,  5.29it/s]\n"
     ]
    }
   ],
   "source": [
    "#Use Target Encoding to create new features  with aggregates : Std, Max,Min, Mean and Median\n",
    "def agg_functions(df1):\n",
    "    features= ['Junction', 'ID', 'Year', 'Month','day_of_month', 'day_of_week', 'Date', 'Time', 'day_of_year']\n",
    "    for x in tqdm(features):\n",
    "        t=df1.groupby(x)['Vehicles'].agg(['std','max','min','mean','median'])\n",
    "        t.columns=[x+c+'_vehicles' for c in t.columns]\n",
    "        t=t.astype({c:np.float32 for c in t.columns})\n",
    "        t.reset_index(inplace=True)\n",
    "#         display(t)\n",
    "        # display(t.T.to_dict('list'))\n",
    "        df1=df1.merge(t,on=x,how='left')\n",
    "        gc.collect()\n",
    "    return df1\n",
    "# AGGREGATE SPECIFIC FEATURES WITH Vehicless\n",
    "df2=agg_functions(df)\n"
   ]
  },
  {
   "cell_type": "code",
   "execution_count": 12,
   "id": "03bbb15a",
   "metadata": {
    "execution": {
     "iopub.execute_input": "2022-10-13T18:42:23.434531Z",
     "iopub.status.busy": "2022-10-13T18:42:23.434199Z",
     "iopub.status.idle": "2022-10-13T18:42:23.457245Z",
     "shell.execute_reply": "2022-10-13T18:42:23.456163Z",
     "shell.execute_reply.started": "2022-10-13T18:42:23.434501Z"
    }
   },
   "outputs": [
    {
     "name": "stdout",
     "output_type": "stream",
     "text": [
      "<class 'pandas.core.frame.DataFrame'>\n",
      "Int64Index: 48120 entries, 0 to 48119\n",
      "Data columns (total 57 columns):\n",
      " #   Column                       Non-Null Count  Dtype  \n",
      "---  ------                       --------------  -----  \n",
      " 0   DateTime                     48120 non-null  float64\n",
      " 1   Junction                     48120 non-null  int64  \n",
      " 2   Vehicles                     48120 non-null  int64  \n",
      " 3   ID                           48120 non-null  int64  \n",
      " 4   Year                         48120 non-null  int64  \n",
      " 5   Month                        48120 non-null  int64  \n",
      " 6   day_of_month                 48120 non-null  int64  \n",
      " 7   day_of_week                  48120 non-null  int64  \n",
      " 8   Date                         48120 non-null  int32  \n",
      " 9   Time                         48120 non-null  int64  \n",
      " 10  day_of_year                  48120 non-null  int64  \n",
      " 11  Seconds                      48120 non-null  int32  \n",
      " 12  Junctionstd_vehicles         48120 non-null  float32\n",
      " 13  Junctionmax_vehicles         48120 non-null  float32\n",
      " 14  Junctionmin_vehicles         48120 non-null  float32\n",
      " 15  Junctionmean_vehicles        48120 non-null  float32\n",
      " 16  Junctionmedian_vehicles      48120 non-null  float32\n",
      " 17  IDstd_vehicles               0 non-null      float32\n",
      " 18  IDmax_vehicles               48120 non-null  float32\n",
      " 19  IDmin_vehicles               48120 non-null  float32\n",
      " 20  IDmean_vehicles              48120 non-null  float32\n",
      " 21  IDmedian_vehicles            48120 non-null  float32\n",
      " 22  Yearstd_vehicles             48120 non-null  float32\n",
      " 23  Yearmax_vehicles             48120 non-null  float32\n",
      " 24  Yearmin_vehicles             48120 non-null  float32\n",
      " 25  Yearmean_vehicles            48120 non-null  float32\n",
      " 26  Yearmedian_vehicles          48120 non-null  float32\n",
      " 27  Monthstd_vehicles            48120 non-null  float32\n",
      " 28  Monthmax_vehicles            48120 non-null  float32\n",
      " 29  Monthmin_vehicles            48120 non-null  float32\n",
      " 30  Monthmean_vehicles           48120 non-null  float32\n",
      " 31  Monthmedian_vehicles         48120 non-null  float32\n",
      " 32  day_of_monthstd_vehicles     48120 non-null  float32\n",
      " 33  day_of_monthmax_vehicles     48120 non-null  float32\n",
      " 34  day_of_monthmin_vehicles     48120 non-null  float32\n",
      " 35  day_of_monthmean_vehicles    48120 non-null  float32\n",
      " 36  day_of_monthmedian_vehicles  48120 non-null  float32\n",
      " 37  day_of_weekstd_vehicles      48120 non-null  float32\n",
      " 38  day_of_weekmax_vehicles      48120 non-null  float32\n",
      " 39  day_of_weekmin_vehicles      48120 non-null  float32\n",
      " 40  day_of_weekmean_vehicles     48120 non-null  float32\n",
      " 41  day_of_weekmedian_vehicles   48120 non-null  float32\n",
      " 42  Datestd_vehicles             48120 non-null  float32\n",
      " 43  Datemax_vehicles             48120 non-null  float32\n",
      " 44  Datemin_vehicles             48120 non-null  float32\n",
      " 45  Datemean_vehicles            48120 non-null  float32\n",
      " 46  Datemedian_vehicles          48120 non-null  float32\n",
      " 47  Timestd_vehicles             48120 non-null  float32\n",
      " 48  Timemax_vehicles             48120 non-null  float32\n",
      " 49  Timemin_vehicles             48120 non-null  float32\n",
      " 50  Timemean_vehicles            48120 non-null  float32\n",
      " 51  Timemedian_vehicles          48120 non-null  float32\n",
      " 52  day_of_yearstd_vehicles      48120 non-null  float32\n",
      " 53  day_of_yearmax_vehicles      48120 non-null  float32\n",
      " 54  day_of_yearmin_vehicles      48120 non-null  float32\n",
      " 55  day_of_yearmean_vehicles     48120 non-null  float32\n",
      " 56  day_of_yearmedian_vehicles   48120 non-null  float32\n",
      "dtypes: float32(45), float64(1), int32(2), int64(9)\n",
      "memory usage: 12.7 MB\n"
     ]
    }
   ],
   "source": [
    "df2.info()"
   ]
  },
  {
   "cell_type": "code",
   "execution_count": 13,
   "id": "8a5514e1",
   "metadata": {
    "execution": {
     "iopub.execute_input": "2022-10-13T18:42:23.459048Z",
     "iopub.status.busy": "2022-10-13T18:42:23.458650Z",
     "iopub.status.idle": "2022-10-13T18:42:23.477506Z",
     "shell.execute_reply": "2022-10-13T18:42:23.476454Z",
     "shell.execute_reply.started": "2022-10-13T18:42:23.459014Z"
    }
   },
   "outputs": [
    {
     "data": {
      "text/plain": [
       "DateTime                           0\n",
       "Junction                           0\n",
       "Vehicles                           0\n",
       "ID                                 0\n",
       "Year                               0\n",
       "Month                              0\n",
       "day_of_month                       0\n",
       "day_of_week                        0\n",
       "Date                               0\n",
       "Time                               0\n",
       "day_of_year                        0\n",
       "Seconds                            0\n",
       "Junctionstd_vehicles               0\n",
       "Junctionmax_vehicles               0\n",
       "Junctionmin_vehicles               0\n",
       "Junctionmean_vehicles              0\n",
       "Junctionmedian_vehicles            0\n",
       "IDstd_vehicles                 48120\n",
       "IDmax_vehicles                     0\n",
       "IDmin_vehicles                     0\n",
       "IDmean_vehicles                    0\n",
       "IDmedian_vehicles                  0\n",
       "Yearstd_vehicles                   0\n",
       "Yearmax_vehicles                   0\n",
       "Yearmin_vehicles                   0\n",
       "Yearmean_vehicles                  0\n",
       "Yearmedian_vehicles                0\n",
       "Monthstd_vehicles                  0\n",
       "Monthmax_vehicles                  0\n",
       "Monthmin_vehicles                  0\n",
       "Monthmean_vehicles                 0\n",
       "Monthmedian_vehicles               0\n",
       "day_of_monthstd_vehicles           0\n",
       "day_of_monthmax_vehicles           0\n",
       "day_of_monthmin_vehicles           0\n",
       "day_of_monthmean_vehicles          0\n",
       "day_of_monthmedian_vehicles        0\n",
       "day_of_weekstd_vehicles            0\n",
       "day_of_weekmax_vehicles            0\n",
       "day_of_weekmin_vehicles            0\n",
       "day_of_weekmean_vehicles           0\n",
       "day_of_weekmedian_vehicles         0\n",
       "Datestd_vehicles                   0\n",
       "Datemax_vehicles                   0\n",
       "Datemin_vehicles                   0\n",
       "Datemean_vehicles                  0\n",
       "Datemedian_vehicles                0\n",
       "Timestd_vehicles                   0\n",
       "Timemax_vehicles                   0\n",
       "Timemin_vehicles                   0\n",
       "Timemean_vehicles                  0\n",
       "Timemedian_vehicles                0\n",
       "day_of_yearstd_vehicles            0\n",
       "day_of_yearmax_vehicles            0\n",
       "day_of_yearmin_vehicles            0\n",
       "day_of_yearmean_vehicles           0\n",
       "day_of_yearmedian_vehicles         0\n",
       "dtype: int64"
      ]
     },
     "execution_count": 13,
     "metadata": {},
     "output_type": "execute_result"
    }
   ],
   "source": [
    "df2.isnull().sum()"
   ]
  },
  {
   "cell_type": "code",
   "execution_count": 14,
   "id": "e0b116c8",
   "metadata": {
    "execution": {
     "iopub.execute_input": "2022-10-13T18:42:23.479784Z",
     "iopub.status.busy": "2022-10-13T18:42:23.479337Z",
     "iopub.status.idle": "2022-10-13T18:42:23.500750Z",
     "shell.execute_reply": "2022-10-13T18:42:23.499570Z",
     "shell.execute_reply.started": "2022-10-13T18:42:23.479741Z"
    }
   },
   "outputs": [],
   "source": [
    "#Dropping the IDstd_vehicles which had only NaN values\n",
    "df2.drop('IDstd_vehicles', axis=1, inplace = True)"
   ]
  },
  {
   "cell_type": "code",
   "execution_count": 15,
   "id": "0b22febf",
   "metadata": {
    "execution": {
     "iopub.execute_input": "2022-10-13T18:42:23.502685Z",
     "iopub.status.busy": "2022-10-13T18:42:23.502328Z",
     "iopub.status.idle": "2022-10-13T18:42:23.510162Z",
     "shell.execute_reply": "2022-10-13T18:42:23.508818Z",
     "shell.execute_reply.started": "2022-10-13T18:42:23.502653Z"
    }
   },
   "outputs": [
    {
     "data": {
      "text/plain": [
       "48120"
      ]
     },
     "execution_count": 15,
     "metadata": {},
     "output_type": "execute_result"
    }
   ],
   "source": [
    "len(df2)"
   ]
  },
  {
   "cell_type": "code",
   "execution_count": null,
   "id": "d56ac2a8",
   "metadata": {},
   "outputs": [],
   "source": []
  },
  {
   "cell_type": "markdown",
   "id": "d660801c",
   "metadata": {},
   "source": [
    "# Building Baseline Model with the best performing Models (CatBoost, LGBM, RandomForest, and XGBoost"
   ]
  },
  {
   "cell_type": "code",
   "execution_count": 16,
   "id": "1056dd7b",
   "metadata": {
    "execution": {
     "iopub.execute_input": "2022-10-13T18:42:23.539871Z",
     "iopub.status.busy": "2022-10-13T18:42:23.539218Z",
     "iopub.status.idle": "2022-10-13T18:42:23.550908Z",
     "shell.execute_reply": "2022-10-13T18:42:23.549974Z",
     "shell.execute_reply.started": "2022-10-13T18:42:23.539836Z"
    }
   },
   "outputs": [],
   "source": [
    "#Declaring Input and Output Variables\n",
    "X = df2.drop(['Vehicles','Seconds'], axis=1)\n",
    "y = df2['Vehicles']"
   ]
  },
  {
   "cell_type": "code",
   "execution_count": 17,
   "id": "621684b7",
   "metadata": {
    "execution": {
     "iopub.execute_input": "2022-10-13T18:42:23.553208Z",
     "iopub.status.busy": "2022-10-13T18:42:23.552429Z",
     "iopub.status.idle": "2022-10-13T18:43:25.697426Z",
     "shell.execute_reply": "2022-10-13T18:43:25.696400Z",
     "shell.execute_reply.started": "2022-10-13T18:42:23.553169Z"
    }
   },
   "outputs": [
    {
     "name": "stdout",
     "output_type": "stream",
     "text": [
      "CatBoost RMSE score on validation set is :  0.08435926949445098\n",
      "----------------------------------------------------------------------------------------------------------------------------------------------------------------\n",
      "LGBM RMSE score on validation set is :  0.15315309156017243\n",
      "----------------------------------------------------------------------------------------------------------------------------------------------------------------\n",
      "XGBoost RMSE score on validation set is :  0.08029327874355069\n",
      "----------------------------------------------------------------------------------------------------------------------------------------------------------------\n",
      "RandomForest RMSE score on validation set is :  0.02668237795686666\n",
      "----------------------------------------------------------------------------------------------------------------------------------------------------------------\n"
     ]
    }
   ],
   "source": [
    "#Train Test Split using 20% as test size\n",
    "X_train, X_valid, y_train, y_valid = train_test_split(X, y, test_size=0.2, random_state=42) \n",
    "\n",
    "# Training and evaluating baseline performance of the models below\n",
    "# Catboost\n",
    "cat = CatBoostRegressor(verbose=False)\n",
    "cat.fit(X_train, y_train)\n",
    "cat_pred = cat.predict(X_valid)\n",
    "cat_RMSE = mean_squared_error(y_valid,cat_pred, squared=False)\n",
    "print(\"CatBoost RMSE score on validation set is : \",cat_RMSE)\n",
    "print('--------'*20)\n",
    "\n",
    "# LGBM\n",
    "lgb = LGBMRegressor(num_iterations=1000)\n",
    "lgb.fit(X_train, y_train)\n",
    "lgb_pred = lgb.predict(X_valid)\n",
    "lgb_RMSE = mean_squared_error(y_valid,lgb_pred, squared=False)\n",
    "print(\"LGBM RMSE score on validation set is : \",lgb_RMSE)\n",
    "print('--------'*20)\n",
    "\n",
    "# XGBoost\n",
    "xg = XGBRegressor(n_estimators=1000)\n",
    "xg.fit(X_train, y_train)\n",
    "xg_pred = xg.predict(X_valid)\n",
    "xg_RMSE = mean_squared_error(y_valid,xg_pred, squared=False)\n",
    "print(\"XGBoost RMSE score on validation set is : \",xg_RMSE)\n",
    "print('--------'*20)\n",
    "\n",
    "\n",
    "#RandomForest\n",
    "rf =  RandomForestRegressor()\n",
    "rf.fit(X_train, y_train)\n",
    "rf_pred = rf.predict(X_valid)\n",
    "rf_RMSE = mean_squared_error(y_valid,rf_pred, squared=False)\n",
    "print(\"RandomForest RMSE score on validation set is : \",rf_RMSE)\n",
    "print('--------'*20)\n",
    "\n"
   ]
  },
  {
   "cell_type": "markdown",
   "id": "01da6086",
   "metadata": {},
   "source": [
    "## Checking for Overfitting with Stratified Cross Validation  and  Choosing the Best Model"
   ]
  },
  {
   "cell_type": "code",
   "execution_count": 18,
   "id": "9d7503fe",
   "metadata": {
    "execution": {
     "iopub.execute_input": "2022-10-13T18:43:25.699380Z",
     "iopub.status.busy": "2022-10-13T18:43:25.698771Z",
     "iopub.status.idle": "2022-10-13T18:43:25.710650Z",
     "shell.execute_reply": "2022-10-13T18:43:25.709418Z",
     "shell.execute_reply.started": "2022-10-13T18:43:25.699343Z"
    }
   },
   "outputs": [],
   "source": [
    "# Creating a Function to perform Stratified Cross Validation to check for Overfitting\n",
    "def stratified_cross_val(X, y, model, splits=8, seed=42):\n",
    "    skf =  StratifiedKFold(n_splits=splits, shuffle=True, random_state=seed)\n",
    "\n",
    "    RMSE_list = [] # a list to store our RMSE scores\n",
    "    MAPE_list=[]# a list to store our MAPE scores\n",
    "    Acc_list=[]# a list to store our Accuracy scores\n",
    "    preds = []  # a list to store our prediction per splits\n",
    "    model =  model# Instantiate your model\n",
    "\n",
    "    i = 0\n",
    "    for train, test in skf.split(X, y):\n",
    "        x_train, x_test, y_train, y_test = X.iloc[train], X.iloc[test], y.iloc[train], y.iloc[test]\n",
    "        model.fit(x_train, y_train)\n",
    "        RMSE = mean_squared_error(y_test, model.predict(x_test), squared=False)\n",
    "        MAPE= mean_absolute_percentage_error(y_test, model.predict(x_test))\n",
    "        acc= (1-MAPE)*100\n",
    "        print(f'Number of splits trained : {i} \\t RMSE:  {RMSE}  \\t MAPE: {MAPE}  \\t Accuracy: {acc}')\n",
    "        RMSE_list.append(RMSE)\n",
    "        MAPE_list.append(MAPE)\n",
    "        Acc_list.append(acc)\n",
    "        i += 1\n",
    "    \n",
    "    # The mean of our validation scores    \n",
    "    print('The average RMSE: ', np.mean(RMSE_list))\n",
    "    print('The average MAPE: ', np.mean(MAPE_list)) \n",
    "    print('The average Accuracy: ', np.mean(Acc_list)) \n",
    "\n",
    "\n",
    "\n",
    "    return preds"
   ]
  },
  {
   "cell_type": "code",
   "execution_count": 19,
   "id": "7c090b83",
   "metadata": {
    "execution": {
     "iopub.execute_input": "2022-10-13T18:43:25.713459Z",
     "iopub.status.busy": "2022-10-13T18:43:25.712626Z",
     "iopub.status.idle": "2022-10-13T18:46:46.436358Z",
     "shell.execute_reply": "2022-10-13T18:46:46.435116Z",
     "shell.execute_reply.started": "2022-10-13T18:43:25.713395Z"
    }
   },
   "outputs": [
    {
     "name": "stdout",
     "output_type": "stream",
     "text": [
      "Number of splits trained : 0 \t RMSE:  0.02786799425697705  \t MAPE: 5.492901120274057e-06  \t Accuracy: 99.99945070988797\n",
      "Number of splits trained : 1 \t RMSE:  0.017596663327631226  \t MAPE: 3.4870834336101517e-06  \t Accuracy: 99.99965129165665\n",
      "Number of splits trained : 2 \t RMSE:  0.014381686886653354  \t MAPE: 2.0663168421069747e-06  \t Accuracy: 99.99979336831579\n",
      "Number of splits trained : 3 \t RMSE:  0.013400289075181112  \t MAPE: 1.8756727231813825e-06  \t Accuracy: 99.99981243272768\n",
      "Number of splits trained : 4 \t RMSE:  0.07645208323359434  \t MAPE: 1.4846635773261445e-05  \t Accuracy: 99.99851533642268\n",
      "Number of splits trained : 5 \t RMSE:  0.18810429359841313  \t MAPE: 2.030084802736021e-05  \t Accuracy: 99.99796991519726\n",
      "Number of splits trained : 6 \t RMSE:  0.03605113206302649  \t MAPE: 7.93911962359084e-06  \t Accuracy: 99.99920608803764\n",
      "Number of splits trained : 7 \t RMSE:  0.0739728781373069  \t MAPE: 9.459856184727959e-06  \t Accuracy: 99.99905401438153\n",
      "The average RMSE:  0.05597837757234795\n",
      "The average MAPE:  8.183554216014128e-06\n",
      "The average Accuracy:  99.9991816445784\n"
     ]
    }
   ],
   "source": [
    "#Checking for Overfitting in the Random Forest Model\n",
    "preds = stratified_cross_val(X ,y , model = RandomForestRegressor())"
   ]
  },
  {
   "cell_type": "code",
   "execution_count": 20,
   "id": "39f2a2f3",
   "metadata": {
    "execution": {
     "iopub.execute_input": "2022-10-13T18:46:46.442723Z",
     "iopub.status.busy": "2022-10-13T18:46:46.442356Z",
     "iopub.status.idle": "2022-10-13T18:48:08.520092Z",
     "shell.execute_reply": "2022-10-13T18:48:08.518747Z",
     "shell.execute_reply.started": "2022-10-13T18:46:46.442692Z"
    }
   },
   "outputs": [
    {
     "name": "stdout",
     "output_type": "stream",
     "text": [
      "Number of splits trained : 0 \t RMSE:  0.040608617068457836  \t MAPE: 0.0012366189400162236  \t Accuracy: 99.87633810599837\n",
      "Number of splits trained : 1 \t RMSE:  0.0445503115957682  \t MAPE: 0.0011128317325228845  \t Accuracy: 99.88871682674771\n",
      "Number of splits trained : 2 \t RMSE:  0.06265689707486986  \t MAPE: 0.0010919186934575972  \t Accuracy: 99.89080813065424\n",
      "Number of splits trained : 3 \t RMSE:  0.08588385746785186  \t MAPE: 0.0012037347576616371  \t Accuracy: 99.87962652423383\n",
      "Number of splits trained : 4 \t RMSE:  0.05757480569934216  \t MAPE: 0.0012816431656035901  \t Accuracy: 99.87183568343964\n",
      "Number of splits trained : 5 \t RMSE:  0.1101514791979752  \t MAPE: 0.0012970621929368636  \t Accuracy: 99.8702937807063\n",
      "Number of splits trained : 6 \t RMSE:  0.09750194215773997  \t MAPE: 0.0011880046193374933  \t Accuracy: 99.88119953806624\n",
      "Number of splits trained : 7 \t RMSE:  0.08905875625779708  \t MAPE: 0.0012225054958742473  \t Accuracy: 99.87774945041258\n",
      "The average RMSE:  0.07349833331497527\n",
      "The average MAPE:  0.001204289949676317\n",
      "The average Accuracy:  99.87957100503236\n"
     ]
    }
   ],
   "source": [
    "#Checking for Overfitting in the CatBoost Model\n",
    "preds = stratified_cross_val(X ,y , model = CatBoostRegressor(verbose=False))"
   ]
  },
  {
   "cell_type": "code",
   "execution_count": 21,
   "id": "141ed816",
   "metadata": {
    "execution": {
     "iopub.execute_input": "2022-10-13T18:48:08.521880Z",
     "iopub.status.busy": "2022-10-13T18:48:08.521494Z",
     "iopub.status.idle": "2022-10-13T18:48:58.720221Z",
     "shell.execute_reply": "2022-10-13T18:48:58.719032Z",
     "shell.execute_reply.started": "2022-10-13T18:48:08.521845Z"
    }
   },
   "outputs": [
    {
     "name": "stdout",
     "output_type": "stream",
     "text": [
      "Number of splits trained : 0 \t RMSE:  0.24268776260595742  \t MAPE: 0.0001662334518528632  \t Accuracy: 99.98337665481472\n",
      "Number of splits trained : 1 \t RMSE:  0.09433848680418139  \t MAPE: 0.00010416983139597866  \t Accuracy: 99.98958301686041\n",
      "Number of splits trained : 2 \t RMSE:  0.1617360487435008  \t MAPE: 0.00014544316882281766  \t Accuracy: 99.98545568311772\n",
      "Number of splits trained : 3 \t RMSE:  0.22907040065248174  \t MAPE: 0.00012429374353141394  \t Accuracy: 99.98757062564685\n",
      "Number of splits trained : 4 \t RMSE:  0.18315761459827273  \t MAPE: 0.00020510943852109203  \t Accuracy: 99.97948905614788\n",
      "Number of splits trained : 5 \t RMSE:  0.3739128013717059  \t MAPE: 0.0001258855381653596  \t Accuracy: 99.98741144618346\n",
      "Number of splits trained : 6 \t RMSE:  0.09040889242730583  \t MAPE: 0.00016724776563316703  \t Accuracy: 99.98327522343669\n",
      "Number of splits trained : 7 \t RMSE:  0.40387504928155604  \t MAPE: 0.00017923000992371734  \t Accuracy: 99.98207699900763\n",
      "The average RMSE:  0.22239838206062024\n",
      "The average MAPE:  0.00015220161848080116\n",
      "The average Accuracy:  99.98477983815192\n"
     ]
    }
   ],
   "source": [
    "#Checking for Overfitting in the LGBM Model\n",
    "preds = stratified_cross_val(X ,y , model = LGBMRegressor(num_iterations=1000))"
   ]
  },
  {
   "cell_type": "code",
   "execution_count": 22,
   "id": "34cb6ac9",
   "metadata": {
    "execution": {
     "iopub.execute_input": "2022-10-13T18:48:58.727524Z",
     "iopub.status.busy": "2022-10-13T18:48:58.724724Z",
     "iopub.status.idle": "2022-10-13T18:51:34.866711Z",
     "shell.execute_reply": "2022-10-13T18:51:34.865848Z",
     "shell.execute_reply.started": "2022-10-13T18:48:58.727472Z"
    }
   },
   "outputs": [
    {
     "name": "stdout",
     "output_type": "stream",
     "text": [
      "Number of splits trained : 0 \t RMSE:  0.0198244158661222  \t MAPE: 8.080859815394126e-06  \t Accuracy: 99.99919191401845\n",
      "Number of splits trained : 1 \t RMSE:  0.0172268437046756  \t MAPE: 6.566137071389736e-06  \t Accuracy: 99.99934338629286\n",
      "Number of splits trained : 2 \t RMSE:  0.04107201100116775  \t MAPE: 1.0016337875474793e-05  \t Accuracy: 99.99899836621246\n",
      "Number of splits trained : 3 \t RMSE:  0.08729239923386474  \t MAPE: 1.2096231183969337e-05  \t Accuracy: 99.9987903768816\n",
      "Number of splits trained : 4 \t RMSE:  0.037508764017879705  \t MAPE: 1.022543545631e-05  \t Accuracy: 99.99897745645437\n",
      "Number of splits trained : 5 \t RMSE:  0.09357351703092122  \t MAPE: 1.1937430998623885e-05  \t Accuracy: 99.99880625690014\n",
      "Number of splits trained : 6 \t RMSE:  0.09389427629668552  \t MAPE: 1.4083545870957008e-05  \t Accuracy: 99.9985916454129\n",
      "Number of splits trained : 7 \t RMSE:  0.09038546311862655  \t MAPE: 1.7880229905803933e-05  \t Accuracy: 99.99821197700942\n",
      "The average RMSE:  0.06009721128374291\n",
      "The average MAPE:  1.1360776022240352e-05\n",
      "The average Accuracy:  99.99886392239777\n"
     ]
    }
   ],
   "source": [
    "#Checking for Overfitting in the XGBRegressor Model\n",
    "preds = stratified_cross_val(X ,y , model = XGBRegressor(n_estimators=1000))"
   ]
  },
  {
   "cell_type": "code",
   "execution_count": 23,
   "id": "eb470f9b",
   "metadata": {
    "execution": {
     "iopub.execute_input": "2022-10-13T18:51:34.868726Z",
     "iopub.status.busy": "2022-10-13T18:51:34.868121Z",
     "iopub.status.idle": "2022-10-13T18:54:52.980078Z",
     "shell.execute_reply": "2022-10-13T18:54:52.978824Z",
     "shell.execute_reply.started": "2022-10-13T18:51:34.868689Z"
    }
   },
   "outputs": [
    {
     "name": "stdout",
     "output_type": "stream",
     "text": [
      "Cross Val Score with Stratifed KFold for RandomForest is: 99.99854573025459\n"
     ]
    }
   ],
   "source": [
    "#Checking Cross Val Score for Random Forest Model\n",
    "skf = StratifiedKFold(n_splits=8, shuffle=True, random_state=42)\n",
    "results = cross_val_score(RandomForestRegressor(), X, y, cv=skf) \n",
    "print(\"Cross Val Score with Stratifed KFold for RandomForest is:\", np.mean(results)* 100)"
   ]
  },
  {
   "cell_type": "code",
   "execution_count": 24,
   "id": "7354270d",
   "metadata": {
    "execution": {
     "iopub.execute_input": "2022-10-13T18:54:52.981976Z",
     "iopub.status.busy": "2022-10-13T18:54:52.981518Z",
     "iopub.status.idle": "2022-10-13T18:57:28.903883Z",
     "shell.execute_reply": "2022-10-13T18:57:28.902995Z",
     "shell.execute_reply.started": "2022-10-13T18:54:52.981932Z"
    }
   },
   "outputs": [
    {
     "name": "stdout",
     "output_type": "stream",
     "text": [
      "Cross Val Score with Stratifed KFold for XGBoost is: 99.99892445314485\n"
     ]
    }
   ],
   "source": [
    "#Checking Cross Val Score for XGBoost Model\n",
    "skf = StratifiedKFold(n_splits=8, shuffle=True, random_state=42)\n",
    "results = cross_val_score(XGBRegressor(n_estimators=1000), X, y, cv=skf) \n",
    "print(\"Cross Val Score with Stratifed KFold for XGBoost is:\", np.mean(results)* 100)"
   ]
  },
  {
   "cell_type": "code",
   "execution_count": 25,
   "id": "dd67b298",
   "metadata": {
    "execution": {
     "iopub.execute_input": "2022-10-13T18:57:28.910397Z",
     "iopub.status.busy": "2022-10-13T18:57:28.907791Z",
     "iopub.status.idle": "2022-10-13T18:58:15.708307Z",
     "shell.execute_reply": "2022-10-13T18:58:15.707376Z",
     "shell.execute_reply.started": "2022-10-13T18:57:28.910353Z"
    }
   },
   "outputs": [
    {
     "name": "stdout",
     "output_type": "stream",
     "text": [
      "Cross Val Score with Stratifed KFold for LGBM is: 99.98576488714838\n"
     ]
    }
   ],
   "source": [
    "#Checking Cross Val Score for LGBM Model\n",
    "skf = StratifiedKFold(n_splits=8, shuffle=True, random_state=42)\n",
    "results = cross_val_score(LGBMRegressor(num_iterations=1000), X, y, cv=skf)  \n",
    "print(\"Cross Val Score with Stratifed KFold for LGBM is:\", np.mean(results)* 100)"
   ]
  },
  {
   "cell_type": "code",
   "execution_count": 26,
   "id": "d422b8b2",
   "metadata": {
    "execution": {
     "iopub.execute_input": "2022-10-13T18:58:15.714731Z",
     "iopub.status.busy": "2022-10-13T18:58:15.712211Z",
     "iopub.status.idle": "2022-10-13T18:59:36.910930Z",
     "shell.execute_reply": "2022-10-13T18:59:36.909791Z",
     "shell.execute_reply.started": "2022-10-13T18:58:15.714690Z"
    }
   },
   "outputs": [
    {
     "name": "stdout",
     "output_type": "stream",
     "text": [
      "Cross Val Score with Stratifed KFold for CatBoost is: 99.99861458707542\n"
     ]
    }
   ],
   "source": [
    "#Checking Cross Val Score for CatBoost Model\n",
    "skf = StratifiedKFold(n_splits=8, shuffle=True, random_state=42)\n",
    "results = cross_val_score(CatBoostRegressor(verbose=False), X, y, cv=skf) \n",
    "print(\"Cross Val Score with Stratifed KFold for CatBoost is:\", np.mean(results)* 100)"
   ]
  },
  {
   "cell_type": "markdown",
   "id": "7e72d275",
   "metadata": {},
   "source": [
    "# Tuning Hyperparameters for the Chosen Model (RandomForest)"
   ]
  },
  {
   "cell_type": "code",
   "execution_count": 27,
   "id": "73f2098a",
   "metadata": {
    "execution": {
     "iopub.execute_input": "2022-10-13T18:59:36.912663Z",
     "iopub.status.busy": "2022-10-13T18:59:36.912354Z",
     "iopub.status.idle": "2022-10-13T19:00:03.203311Z",
     "shell.execute_reply": "2022-10-13T19:00:03.202051Z",
     "shell.execute_reply.started": "2022-10-13T18:59:36.912635Z"
    }
   },
   "outputs": [
    {
     "name": "stdout",
     "output_type": "stream",
     "text": [
      "RandomForest RMSE score on validation set is :  0.020008121981153638\n",
      "----------------------------------------------------------------------------------------------------------------------------------------------------------------\n"
     ]
    }
   ],
   "source": [
    "#RandomForest\n",
    "# Tuning the selected Model: RandomForest\n",
    "X_train, X_valid, y_train, y_valid = train_test_split(X, y, test_size=0.2, random_state=42) \n",
    "\n",
    "rf =  RandomForestRegressor(random_state= 16,n_estimators=110)\n",
    "rf.fit(X_train, y_train)\n",
    "rf_pred = rf.predict(X_valid)\n",
    "rf_RMSE = mean_squared_error(y_valid,rf_pred, squared=False)\n",
    "print(\"RandomForest RMSE score on validation set is : \",rf_RMSE)\n",
    "print('--------'*20)"
   ]
  },
  {
   "cell_type": "code",
   "execution_count": 28,
   "id": "6f5fea4e",
   "metadata": {
    "execution": {
     "iopub.execute_input": "2022-10-13T19:00:03.208283Z",
     "iopub.status.busy": "2022-10-13T19:00:03.206106Z",
     "iopub.status.idle": "2022-10-13T19:03:43.997719Z",
     "shell.execute_reply": "2022-10-13T19:03:43.996441Z",
     "shell.execute_reply.started": "2022-10-13T19:00:03.208245Z"
    }
   },
   "outputs": [
    {
     "name": "stdout",
     "output_type": "stream",
     "text": [
      "Number of splits trained : 0 \t RMSE:  0.03541031019657815  \t MAPE: 6.330128916618813e-06  \t Accuracy: 99.99936698710835\n",
      "Number of splits trained : 1 \t RMSE:  0.014709178312526638  \t MAPE: 2.442232095506698e-06  \t Accuracy: 99.99975577679045\n",
      "Number of splits trained : 2 \t RMSE:  0.021915448571511405  \t MAPE: 2.680342928303728e-06  \t Accuracy: 99.99973196570717\n",
      "Number of splits trained : 3 \t RMSE:  0.024275463015167534  \t MAPE: 3.163053468083877e-06  \t Accuracy: 99.9996836946532\n",
      "Number of splits trained : 4 \t RMSE:  0.053759163016662476  \t MAPE: 1.0390180746434111e-05  \t Accuracy: 99.99896098192535\n",
      "Number of splits trained : 5 \t RMSE:  0.18443074997994674  \t MAPE: 1.8807221226968698e-05  \t Accuracy: 99.99811927787731\n",
      "Number of splits trained : 6 \t RMSE:  0.026297064926537758  \t MAPE: 4.872218507683595e-06  \t Accuracy: 99.99951277814924\n",
      "Number of splits trained : 7 \t RMSE:  0.06496629318940039  \t MAPE: 1.042547157320046e-05  \t Accuracy: 99.99895745284269\n",
      "The average RMSE:  0.053220458901041386\n",
      "The average MAPE:  7.388856182849998e-06\n",
      "The average Accuracy:  99.99926111438172\n"
     ]
    }
   ],
   "source": [
    "#Checking the Tuned Model's Stratified CV for Overfitting\n",
    "preds = stratified_cross_val(X ,y , model = RandomForestRegressor(random_state= 16,n_estimators=110))\n"
   ]
  },
  {
   "cell_type": "markdown",
   "id": "5073415d",
   "metadata": {},
   "source": [
    "# Checking Feature Importance to get rid of unimportant Features"
   ]
  },
  {
   "cell_type": "code",
   "execution_count": 29,
   "id": "7ec77ca7",
   "metadata": {
    "execution": {
     "iopub.execute_input": "2022-10-13T19:03:43.999564Z",
     "iopub.status.busy": "2022-10-13T19:03:43.999231Z",
     "iopub.status.idle": "2022-10-13T19:03:44.028419Z",
     "shell.execute_reply": "2022-10-13T19:03:44.027407Z",
     "shell.execute_reply.started": "2022-10-13T19:03:43.999534Z"
    }
   },
   "outputs": [
    {
     "data": {
      "text/html": [
       "<div>\n",
       "<style scoped>\n",
       "    .dataframe tbody tr th:only-of-type {\n",
       "        vertical-align: middle;\n",
       "    }\n",
       "\n",
       "    .dataframe tbody tr th {\n",
       "        vertical-align: top;\n",
       "    }\n",
       "\n",
       "    .dataframe thead th {\n",
       "        text-align: right;\n",
       "    }\n",
       "</style>\n",
       "<table border=\"1\" class=\"dataframe\">\n",
       "  <thead>\n",
       "    <tr style=\"text-align: right;\">\n",
       "      <th></th>\n",
       "      <th>Feature</th>\n",
       "      <th>Importance</th>\n",
       "    </tr>\n",
       "  </thead>\n",
       "  <tbody>\n",
       "    <tr>\n",
       "      <th>15</th>\n",
       "      <td>IDmax_vehicles</td>\n",
       "      <td>2.855450e-01</td>\n",
       "    </tr>\n",
       "    <tr>\n",
       "      <th>16</th>\n",
       "      <td>IDmin_vehicles</td>\n",
       "      <td>2.621490e-01</td>\n",
       "    </tr>\n",
       "    <tr>\n",
       "      <th>18</th>\n",
       "      <td>IDmedian_vehicles</td>\n",
       "      <td>2.458333e-01</td>\n",
       "    </tr>\n",
       "    <tr>\n",
       "      <th>17</th>\n",
       "      <td>IDmean_vehicles</td>\n",
       "      <td>2.064538e-01</td>\n",
       "    </tr>\n",
       "    <tr>\n",
       "      <th>40</th>\n",
       "      <td>Datemax_vehicles</td>\n",
       "      <td>3.406385e-06</td>\n",
       "    </tr>\n",
       "    <tr>\n",
       "      <th>50</th>\n",
       "      <td>day_of_yearmax_vehicles</td>\n",
       "      <td>1.889023e-06</td>\n",
       "    </tr>\n",
       "    <tr>\n",
       "      <th>30</th>\n",
       "      <td>day_of_monthmax_vehicles</td>\n",
       "      <td>1.696991e-06</td>\n",
       "    </tr>\n",
       "    <tr>\n",
       "      <th>53</th>\n",
       "      <td>day_of_yearmedian_vehicles</td>\n",
       "      <td>1.319575e-06</td>\n",
       "    </tr>\n",
       "    <tr>\n",
       "      <th>11</th>\n",
       "      <td>Junctionmax_vehicles</td>\n",
       "      <td>1.047322e-06</td>\n",
       "    </tr>\n",
       "    <tr>\n",
       "      <th>12</th>\n",
       "      <td>Junctionmin_vehicles</td>\n",
       "      <td>8.543784e-07</td>\n",
       "    </tr>\n",
       "    <tr>\n",
       "      <th>7</th>\n",
       "      <td>Date</td>\n",
       "      <td>6.999428e-07</td>\n",
       "    </tr>\n",
       "    <tr>\n",
       "      <th>43</th>\n",
       "      <td>Datemedian_vehicles</td>\n",
       "      <td>5.655428e-07</td>\n",
       "    </tr>\n",
       "    <tr>\n",
       "      <th>42</th>\n",
       "      <td>Datemean_vehicles</td>\n",
       "      <td>5.642495e-07</td>\n",
       "    </tr>\n",
       "    <tr>\n",
       "      <th>32</th>\n",
       "      <td>day_of_monthmean_vehicles</td>\n",
       "      <td>5.254202e-07</td>\n",
       "    </tr>\n",
       "    <tr>\n",
       "      <th>13</th>\n",
       "      <td>Junctionmean_vehicles</td>\n",
       "      <td>5.094752e-07</td>\n",
       "    </tr>\n",
       "    <tr>\n",
       "      <th>8</th>\n",
       "      <td>Time</td>\n",
       "      <td>4.906669e-07</td>\n",
       "    </tr>\n",
       "    <tr>\n",
       "      <th>48</th>\n",
       "      <td>Timemedian_vehicles</td>\n",
       "      <td>4.435178e-07</td>\n",
       "    </tr>\n",
       "    <tr>\n",
       "      <th>1</th>\n",
       "      <td>Junction</td>\n",
       "      <td>4.395915e-07</td>\n",
       "    </tr>\n",
       "    <tr>\n",
       "      <th>0</th>\n",
       "      <td>DateTime</td>\n",
       "      <td>4.285185e-07</td>\n",
       "    </tr>\n",
       "    <tr>\n",
       "      <th>33</th>\n",
       "      <td>day_of_monthmedian_vehicles</td>\n",
       "      <td>3.910601e-07</td>\n",
       "    </tr>\n",
       "    <tr>\n",
       "      <th>14</th>\n",
       "      <td>Junctionmedian_vehicles</td>\n",
       "      <td>3.877505e-07</td>\n",
       "    </tr>\n",
       "    <tr>\n",
       "      <th>45</th>\n",
       "      <td>Timemax_vehicles</td>\n",
       "      <td>3.100161e-07</td>\n",
       "    </tr>\n",
       "    <tr>\n",
       "      <th>9</th>\n",
       "      <td>day_of_year</td>\n",
       "      <td>2.795656e-07</td>\n",
       "    </tr>\n",
       "    <tr>\n",
       "      <th>5</th>\n",
       "      <td>day_of_month</td>\n",
       "      <td>2.332187e-07</td>\n",
       "    </tr>\n",
       "    <tr>\n",
       "      <th>37</th>\n",
       "      <td>day_of_weekmean_vehicles</td>\n",
       "      <td>2.331035e-07</td>\n",
       "    </tr>\n",
       "    <tr>\n",
       "      <th>28</th>\n",
       "      <td>Monthmedian_vehicles</td>\n",
       "      <td>2.197572e-07</td>\n",
       "    </tr>\n",
       "    <tr>\n",
       "      <th>35</th>\n",
       "      <td>day_of_weekmax_vehicles</td>\n",
       "      <td>2.115019e-07</td>\n",
       "    </tr>\n",
       "    <tr>\n",
       "      <th>47</th>\n",
       "      <td>Timemean_vehicles</td>\n",
       "      <td>2.052186e-07</td>\n",
       "    </tr>\n",
       "    <tr>\n",
       "      <th>44</th>\n",
       "      <td>Timestd_vehicles</td>\n",
       "      <td>1.959134e-07</td>\n",
       "    </tr>\n",
       "    <tr>\n",
       "      <th>41</th>\n",
       "      <td>Datemin_vehicles</td>\n",
       "      <td>1.832267e-07</td>\n",
       "    </tr>\n",
       "    <tr>\n",
       "      <th>51</th>\n",
       "      <td>day_of_yearmin_vehicles</td>\n",
       "      <td>1.779599e-07</td>\n",
       "    </tr>\n",
       "    <tr>\n",
       "      <th>10</th>\n",
       "      <td>Junctionstd_vehicles</td>\n",
       "      <td>1.583446e-07</td>\n",
       "    </tr>\n",
       "    <tr>\n",
       "      <th>25</th>\n",
       "      <td>Monthmax_vehicles</td>\n",
       "      <td>1.272084e-07</td>\n",
       "    </tr>\n",
       "    <tr>\n",
       "      <th>29</th>\n",
       "      <td>day_of_monthstd_vehicles</td>\n",
       "      <td>1.181819e-07</td>\n",
       "    </tr>\n",
       "    <tr>\n",
       "      <th>52</th>\n",
       "      <td>day_of_yearmean_vehicles</td>\n",
       "      <td>1.127620e-07</td>\n",
       "    </tr>\n",
       "    <tr>\n",
       "      <th>2</th>\n",
       "      <td>ID</td>\n",
       "      <td>1.069044e-07</td>\n",
       "    </tr>\n",
       "    <tr>\n",
       "      <th>46</th>\n",
       "      <td>Timemin_vehicles</td>\n",
       "      <td>1.018787e-07</td>\n",
       "    </tr>\n",
       "    <tr>\n",
       "      <th>24</th>\n",
       "      <td>Monthstd_vehicles</td>\n",
       "      <td>6.914392e-08</td>\n",
       "    </tr>\n",
       "    <tr>\n",
       "      <th>6</th>\n",
       "      <td>day_of_week</td>\n",
       "      <td>4.485783e-08</td>\n",
       "    </tr>\n",
       "    <tr>\n",
       "      <th>4</th>\n",
       "      <td>Month</td>\n",
       "      <td>2.879318e-08</td>\n",
       "    </tr>\n",
       "    <tr>\n",
       "      <th>34</th>\n",
       "      <td>day_of_weekstd_vehicles</td>\n",
       "      <td>2.723021e-08</td>\n",
       "    </tr>\n",
       "    <tr>\n",
       "      <th>38</th>\n",
       "      <td>day_of_weekmedian_vehicles</td>\n",
       "      <td>2.634823e-08</td>\n",
       "    </tr>\n",
       "    <tr>\n",
       "      <th>49</th>\n",
       "      <td>day_of_yearstd_vehicles</td>\n",
       "      <td>2.240959e-08</td>\n",
       "    </tr>\n",
       "    <tr>\n",
       "      <th>39</th>\n",
       "      <td>Datestd_vehicles</td>\n",
       "      <td>1.857537e-08</td>\n",
       "    </tr>\n",
       "    <tr>\n",
       "      <th>27</th>\n",
       "      <td>Monthmean_vehicles</td>\n",
       "      <td>1.828640e-08</td>\n",
       "    </tr>\n",
       "    <tr>\n",
       "      <th>3</th>\n",
       "      <td>Year</td>\n",
       "      <td>1.507216e-08</td>\n",
       "    </tr>\n",
       "    <tr>\n",
       "      <th>22</th>\n",
       "      <td>Yearmean_vehicles</td>\n",
       "      <td>4.537412e-09</td>\n",
       "    </tr>\n",
       "    <tr>\n",
       "      <th>19</th>\n",
       "      <td>Yearstd_vehicles</td>\n",
       "      <td>0.000000e+00</td>\n",
       "    </tr>\n",
       "    <tr>\n",
       "      <th>20</th>\n",
       "      <td>Yearmax_vehicles</td>\n",
       "      <td>0.000000e+00</td>\n",
       "    </tr>\n",
       "    <tr>\n",
       "      <th>31</th>\n",
       "      <td>day_of_monthmin_vehicles</td>\n",
       "      <td>0.000000e+00</td>\n",
       "    </tr>\n",
       "    <tr>\n",
       "      <th>26</th>\n",
       "      <td>Monthmin_vehicles</td>\n",
       "      <td>0.000000e+00</td>\n",
       "    </tr>\n",
       "    <tr>\n",
       "      <th>23</th>\n",
       "      <td>Yearmedian_vehicles</td>\n",
       "      <td>0.000000e+00</td>\n",
       "    </tr>\n",
       "    <tr>\n",
       "      <th>21</th>\n",
       "      <td>Yearmin_vehicles</td>\n",
       "      <td>0.000000e+00</td>\n",
       "    </tr>\n",
       "    <tr>\n",
       "      <th>36</th>\n",
       "      <td>day_of_weekmin_vehicles</td>\n",
       "      <td>0.000000e+00</td>\n",
       "    </tr>\n",
       "  </tbody>\n",
       "</table>\n",
       "</div>"
      ],
      "text/plain": [
       "                        Feature    Importance\n",
       "15               IDmax_vehicles  2.855450e-01\n",
       "16               IDmin_vehicles  2.621490e-01\n",
       "18            IDmedian_vehicles  2.458333e-01\n",
       "17              IDmean_vehicles  2.064538e-01\n",
       "40             Datemax_vehicles  3.406385e-06\n",
       "50      day_of_yearmax_vehicles  1.889023e-06\n",
       "30     day_of_monthmax_vehicles  1.696991e-06\n",
       "53   day_of_yearmedian_vehicles  1.319575e-06\n",
       "11         Junctionmax_vehicles  1.047322e-06\n",
       "12         Junctionmin_vehicles  8.543784e-07\n",
       "7                          Date  6.999428e-07\n",
       "43          Datemedian_vehicles  5.655428e-07\n",
       "42            Datemean_vehicles  5.642495e-07\n",
       "32    day_of_monthmean_vehicles  5.254202e-07\n",
       "13        Junctionmean_vehicles  5.094752e-07\n",
       "8                          Time  4.906669e-07\n",
       "48          Timemedian_vehicles  4.435178e-07\n",
       "1                      Junction  4.395915e-07\n",
       "0                      DateTime  4.285185e-07\n",
       "33  day_of_monthmedian_vehicles  3.910601e-07\n",
       "14      Junctionmedian_vehicles  3.877505e-07\n",
       "45             Timemax_vehicles  3.100161e-07\n",
       "9                   day_of_year  2.795656e-07\n",
       "5                  day_of_month  2.332187e-07\n",
       "37     day_of_weekmean_vehicles  2.331035e-07\n",
       "28         Monthmedian_vehicles  2.197572e-07\n",
       "35      day_of_weekmax_vehicles  2.115019e-07\n",
       "47            Timemean_vehicles  2.052186e-07\n",
       "44             Timestd_vehicles  1.959134e-07\n",
       "41             Datemin_vehicles  1.832267e-07\n",
       "51      day_of_yearmin_vehicles  1.779599e-07\n",
       "10         Junctionstd_vehicles  1.583446e-07\n",
       "25            Monthmax_vehicles  1.272084e-07\n",
       "29     day_of_monthstd_vehicles  1.181819e-07\n",
       "52     day_of_yearmean_vehicles  1.127620e-07\n",
       "2                            ID  1.069044e-07\n",
       "46             Timemin_vehicles  1.018787e-07\n",
       "24            Monthstd_vehicles  6.914392e-08\n",
       "6                   day_of_week  4.485783e-08\n",
       "4                         Month  2.879318e-08\n",
       "34      day_of_weekstd_vehicles  2.723021e-08\n",
       "38   day_of_weekmedian_vehicles  2.634823e-08\n",
       "49      day_of_yearstd_vehicles  2.240959e-08\n",
       "39             Datestd_vehicles  1.857537e-08\n",
       "27           Monthmean_vehicles  1.828640e-08\n",
       "3                          Year  1.507216e-08\n",
       "22            Yearmean_vehicles  4.537412e-09\n",
       "19             Yearstd_vehicles  0.000000e+00\n",
       "20             Yearmax_vehicles  0.000000e+00\n",
       "31     day_of_monthmin_vehicles  0.000000e+00\n",
       "26            Monthmin_vehicles  0.000000e+00\n",
       "23          Yearmedian_vehicles  0.000000e+00\n",
       "21             Yearmin_vehicles  0.000000e+00\n",
       "36      day_of_weekmin_vehicles  0.000000e+00"
      ]
     },
     "execution_count": 29,
     "metadata": {},
     "output_type": "execute_result"
    }
   ],
   "source": [
    "#Creating a DataFrame that shows each feature and its importance to the Model\n",
    "cat_viz= pd.DataFrame({'Feature':X.columns, 'Importance':rf.feature_importances_}).sort_values(by=\"Importance\",ascending=False)\n",
    "cat_viz"
   ]
  },
  {
   "cell_type": "code",
   "execution_count": 30,
   "id": "e9027bba",
   "metadata": {
    "execution": {
     "iopub.execute_input": "2022-10-13T19:03:44.030260Z",
     "iopub.status.busy": "2022-10-13T19:03:44.029897Z",
     "iopub.status.idle": "2022-10-13T19:03:45.342266Z",
     "shell.execute_reply": "2022-10-13T19:03:45.341107Z",
     "shell.execute_reply.started": "2022-10-13T19:03:44.030227Z"
    }
   },
   "outputs": [
    {
     "data": {
      "text/plain": [
       "<AxesSubplot:xlabel='Importance', ylabel='Feature'>"
      ]
     },
     "execution_count": 30,
     "metadata": {},
     "output_type": "execute_result"
    },
    {
     "data": {
      "image/png": "[encoded data removed]",
      "text/plain": [
       "<Figure size 864x1440 with 1 Axes>"
      ]
     },
     "metadata": {
      "needs_background": "light"
     },
     "output_type": "display_data"
    }
   ],
   "source": [
    "#Plotting the Feature Importance\n",
    "plt.figure(figsize= (12,20))\n",
    "sns.barplot(x='Importance', y= 'Feature', data=cat_viz, label=\"Feature Importances\", orient= 'h')#, color_palette='tab10')"
   ]
  },
  {
   "cell_type": "code",
   "execution_count": 31,
   "id": "ae2e80b6",
   "metadata": {
    "execution": {
     "iopub.execute_input": "2022-10-13T19:03:45.344138Z",
     "iopub.status.busy": "2022-10-13T19:03:45.343766Z",
     "iopub.status.idle": "2022-10-13T19:03:45.352444Z",
     "shell.execute_reply": "2022-10-13T19:03:45.351521Z",
     "shell.execute_reply.started": "2022-10-13T19:03:45.344103Z"
    }
   },
   "outputs": [
    {
     "data": {
      "text/plain": [
       "['Yearstd_vehicles',\n",
       " 'Yearmax_vehicles',\n",
       " 'day_of_monthmin_vehicles',\n",
       " 'Monthmin_vehicles',\n",
       " 'Yearmedian_vehicles',\n",
       " 'Yearmin_vehicles',\n",
       " 'day_of_weekmin_vehicles']"
      ]
     },
     "execution_count": 31,
     "metadata": {},
     "output_type": "execute_result"
    }
   ],
   "source": [
    "#Finding the columns that had no importance to the model performance\n",
    "useless_cols = list(cat_viz.loc[cat_viz['Importance']==0.00000000000000]['Feature'])\n",
    "useless_cols"
   ]
  },
  {
   "cell_type": "markdown",
   "id": "7e60ed9c",
   "metadata": {},
   "source": [
    "# Dropping The Useless Columns and Building a Model with the useful Columns"
   ]
  },
  {
   "cell_type": "code",
   "execution_count": 32,
   "id": "0a7f0bfa",
   "metadata": {
    "execution": {
     "iopub.execute_input": "2022-10-13T19:03:45.354793Z",
     "iopub.status.busy": "2022-10-13T19:03:45.354049Z",
     "iopub.status.idle": "2022-10-13T19:03:45.368110Z",
     "shell.execute_reply": "2022-10-13T19:03:45.367142Z",
     "shell.execute_reply.started": "2022-10-13T19:03:45.354738Z"
    }
   },
   "outputs": [],
   "source": [
    "#Dropping the useless columns\n",
    "X1= X.drop(useless_cols,axis=1).reset_index(drop=True)"
   ]
  },
  {
   "cell_type": "code",
   "execution_count": 33,
   "id": "a55d9455",
   "metadata": {
    "execution": {
     "iopub.execute_input": "2022-10-13T19:03:45.370116Z",
     "iopub.status.busy": "2022-10-13T19:03:45.369754Z",
     "iopub.status.idle": "2022-10-13T19:04:08.950659Z",
     "shell.execute_reply": "2022-10-13T19:04:08.949372Z",
     "shell.execute_reply.started": "2022-10-13T19:03:45.370053Z"
    }
   },
   "outputs": [
    {
     "name": "stdout",
     "output_type": "stream",
     "text": [
      "RandomForest RMSE score on validation set is :  0.021600544927087652\n",
      "RandomForest MAPE score on validation set is :  4.180936646533357e-06\n",
      "RandomForest Accuracy score on validation set is :  99.99958190633535\n",
      "----------------------------------------------------------------------------------------------------------------------------------------------------------------\n"
     ]
    }
   ],
   "source": [
    "#Training a Model with the new features and evaluating its Performance\n",
    "X_train, X_valid, y_train, y_valid = train_test_split(X1, y, test_size=0.2, random_state=42) \n",
    "\n",
    "rf =  RandomForestRegressor(random_state= 16,n_estimators=100)\n",
    "rf.fit(X_train, y_train)\n",
    "rf_pred = rf.predict(X_valid)\n",
    "rf_RMSE = mean_squared_error(y_valid,rf_pred, squared=False)\n",
    "rf_MAPE= mean_absolute_percentage_error(y_valid,rf_pred)\n",
    "rf_acc= (1-rf_MAPE)* 100\n",
    "\n",
    "print(\"RandomForest RMSE score on validation set is : \",rf_RMSE)\n",
    "print(\"RandomForest MAPE score on validation set is : \",rf_MAPE)\n",
    "print(\"RandomForest Accuracy score on validation set is : \",rf_acc)\n",
    "print('--------'*20)"
   ]
  },
  {
   "cell_type": "code",
   "execution_count": 34,
   "id": "5a6dede8",
   "metadata": {
    "execution": {
     "iopub.execute_input": "2022-10-13T19:04:08.952449Z",
     "iopub.status.busy": "2022-10-13T19:04:08.951985Z",
     "iopub.status.idle": "2022-10-13T19:07:22.186193Z",
     "shell.execute_reply": "2022-10-13T19:07:22.184904Z",
     "shell.execute_reply.started": "2022-10-13T19:04:08.952415Z"
    }
   },
   "outputs": [
    {
     "name": "stdout",
     "output_type": "stream",
     "text": [
      "Number of splits trained : 0 \t RMSE:  0.018138196746469187  \t MAPE: 3.16764967607931e-06  \t Accuracy: 99.99968323503239\n",
      "Number of splits trained : 1 \t RMSE:  0.015785869708714588  \t MAPE: 2.718916397402286e-06  \t Accuracy: 99.99972810836026\n",
      "Number of splits trained : 2 \t RMSE:  0.023746373919278817  \t MAPE: 3.5130797329528486e-06  \t Accuracy: 99.99964869202671\n",
      "Number of splits trained : 3 \t RMSE:  0.025205060912331653  \t MAPE: 3.595341921994697e-06  \t Accuracy: 99.9996404658078\n",
      "Number of splits trained : 4 \t RMSE:  0.05301688120245836  \t MAPE: 1.0294040348935993e-05  \t Accuracy: 99.9989705959651\n",
      "Number of splits trained : 5 \t RMSE:  0.17520504553251287  \t MAPE: 1.9487159495326304e-05  \t Accuracy: 99.99805128405048\n",
      "Number of splits trained : 6 \t RMSE:  0.02156395502397409  \t MAPE: 4.149811779238496e-06  \t Accuracy: 99.99958501882207\n",
      "Number of splits trained : 7 \t RMSE:  0.055442900464983666  \t MAPE: 8.731188576863465e-06  \t Accuracy: 99.9991268811423\n",
      "The average RMSE:  0.048513035438840404\n",
      "The average MAPE:  6.957148491099175e-06\n",
      "The average Accuracy:  99.99930428515088\n"
     ]
    }
   ],
   "source": [
    "#Checking the Final Model's Stratified CV for Overfitting\n",
    "preds = stratified_cross_val(X1 ,y , model = RandomForestRegressor(random_state= 16))"
   ]
  },
  {
   "cell_type": "markdown",
   "id": "4557a082",
   "metadata": {},
   "source": [
    "# Conclusion "
   ]
  },
  {
   "cell_type": "markdown",
   "id": "f5a0b3a0",
   "metadata": {},
   "source": [
    "**Creating New Features by Target Encoding Some Features**\n",
    "\n",
    "We used Target Encoding to create new features with aggregates : Std, Max,Min, Mean and Median\n",
    "\n",
    "\n",
    "**Building Baseline Model with the best performing Models (CatBoost, LGBM, RandomForest, and XGBoost**\n",
    "\n",
    "We built Baseline Model with the best performing Models (CatBoost, LGBM, RandomForest, and XGBoost) and the Root Mean Square Error of the Random Forest Regressor was very much lower and close to 0, which means the Random Forest Regressor model will perform well.\n",
    "\n",
    "\n",
    "**Checking for Overfitting with Stratified Cross Validation and Choosing the Best Model**\n",
    "\n",
    "None of the models was overfitting after we tested with stratified cross-validation. Random Forest was still the best-performing model.\n",
    "\n",
    "\n",
    "**Tuning Hyperparameters for the Chosen Model (RandomForest)**\n",
    "\n",
    "We optimized the chosen model which was Random Forest to improve the performance.\n",
    "\n",
    "\n",
    "**Checking Feature Importance to get rid of unimportant Features**\n",
    "\n",
    "We checked the important of all the features to see which ones added noise to our models and we noticed the features with no importance to the models and dropped them.\n",
    "\n",
    "After we dropped useless columns, and RandomForest Model was trained again giving us an Accuracy score on validation set which was about 99.9% value."
   ]
  },
  {
   "cell_type": "code",
   "execution_count": null,
   "id": "90b39008",
   "metadata": {},
   "outputs": [],
   "source": []
  },
  {
   "cell_type": "code",
   "execution_count": null,
   "id": "c6119bdc",
   "metadata": {},
   "outputs": [],
   "source": []
  },
  {
   "cell_type": "code",
   "execution_count": null,
   "id": "78b633b6",
   "metadata": {},
   "outputs": [],
   "source": []
  }
 ],
 "metadata": {
  "kernelspec": {
   "display_name": "Python 3 (ipykernel)",
   "language": "python",
   "name": "python3"
  },
  "language_info": {
   "codemirror_mode": {
    "name": "ipython",
    "version": 3
   },
   "file_extension": ".py",
   "mimetype": "text/x-python",
   "name": "python",
   "nbconvert_exporter": "python",
   "pygments_lexer": "ipython3",
   "version": "3.9.12"
  },
  "toc": {
   "base_numbering": 1,
   "nav_menu": {},
   "number_sections": true,
   "sideBar": true,
   "skip_h1_title": false,
   "title_cell": "Table of Contents",
   "title_sidebar": "Contents",
   "toc_cell": false,
   "toc_position": {},
   "toc_section_display": true,
   "toc_window_display": false
  },
  "varInspector": {
   "cols": {
    "lenName": 16,
    "lenType": 16,
    "lenVar": 40
   },
   "kernels_config": {
    "python": {
     "delete_cmd_postfix": "",
     "delete_cmd_prefix": "del ",
     "library": "var_list.py",
     "varRefreshCmd": "print(var_dic_list())"
    },
    "r": {
     "delete_cmd_postfix": ") ",
     "delete_cmd_prefix": "rm(",
     "library": "var_list.r",
     "varRefreshCmd": "cat(var_dic_list()) "
    }
   },
   "types_to_exclude": [
    "module",
    "function",
    "builtin_function_or_method",
    "instance",
    "_Feature"
   ],
   "window_display": false
  }
 },
 "nbformat": 4,
 "nbformat_minor": 5
}
